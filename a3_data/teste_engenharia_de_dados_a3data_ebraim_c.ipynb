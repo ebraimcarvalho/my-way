{
  "nbformat": 4,
  "nbformat_minor": 0,
  "metadata": {
    "colab": {
      "name": "teste_engenharia_de_dados_a3data_ebraim.ipynb",
      "provenance": [],
      "collapsed_sections": []
    },
    "kernelspec": {
      "name": "python3",
      "display_name": "Python 3"
    },
    "language_info": {
      "name": "python"
    }
  },
  "cells": [
    {
      "cell_type": "markdown",
      "metadata": {
        "id": "LVSy2BqsaSkj"
      },
      "source": [
        "# Setup Geral\n",
        "\n",
        "Se estiver executando este exercício no Google Colab, execute as próximas duas células. \n",
        "\n",
        "Caso esteja executando localmente, não é necessário executar mas certifique-se de que o **pyspark** está instalado e configurado em sua máquina."
      ]
    },
    {
      "cell_type": "code",
      "metadata": {
        "id": "NHPXuknHZ5Az",
        "colab": {
          "base_uri": "https://localhost:8080/"
        },
        "outputId": "2281abde-4324-417d-865b-c9cd78da5590"
      },
      "source": [
        "%%bash\n",
        "\n",
        "# Instal Java\n",
        "apt-get update && apt-get install openjdk-8-jdk-headless -qq > /dev/null\n",
        "\n",
        "# Install PySpark\n",
        "pip install -q pyspark"
      ],
      "execution_count": 1,
      "outputs": [
        {
          "output_type": "stream",
          "name": "stdout",
          "text": [
            "Ign:1 https://developer.download.nvidia.com/compute/cuda/repos/ubuntu1804/x86_64  InRelease\n",
            "Get:2 https://cloud.r-project.org/bin/linux/ubuntu bionic-cran40/ InRelease [3,626 B]\n",
            "Get:3 http://security.ubuntu.com/ubuntu bionic-security InRelease [88.7 kB]\n",
            "Ign:4 https://developer.download.nvidia.com/compute/machine-learning/repos/ubuntu1804/x86_64  InRelease\n",
            "Get:5 https://developer.download.nvidia.com/compute/cuda/repos/ubuntu1804/x86_64  Release [696 B]\n",
            "Hit:6 https://developer.download.nvidia.com/compute/machine-learning/repos/ubuntu1804/x86_64  Release\n",
            "Hit:7 http://archive.ubuntu.com/ubuntu bionic InRelease\n",
            "Get:8 https://developer.download.nvidia.com/compute/cuda/repos/ubuntu1804/x86_64  Release.gpg [836 B]\n",
            "Hit:9 http://ppa.launchpad.net/c2d4u.team/c2d4u4.0+/ubuntu bionic InRelease\n",
            "Get:10 http://archive.ubuntu.com/ubuntu bionic-updates InRelease [88.7 kB]\n",
            "Hit:11 http://ppa.launchpad.net/cran/libgit2/ubuntu bionic InRelease\n",
            "Get:12 http://archive.ubuntu.com/ubuntu bionic-backports InRelease [74.6 kB]\n",
            "Hit:13 http://ppa.launchpad.net/deadsnakes/ppa/ubuntu bionic InRelease\n",
            "Get:15 http://ppa.launchpad.net/graphics-drivers/ppa/ubuntu bionic InRelease [21.3 kB]\n",
            "Get:16 https://developer.download.nvidia.com/compute/cuda/repos/ubuntu1804/x86_64  Packages [917 kB]\n",
            "Get:17 http://security.ubuntu.com/ubuntu bionic-security/main amd64 Packages [2,544 kB]\n",
            "Get:18 http://archive.ubuntu.com/ubuntu bionic-updates/universe amd64 Packages [2,244 kB]\n",
            "Get:19 http://security.ubuntu.com/ubuntu bionic-security/universe amd64 Packages [1,466 kB]\n",
            "Get:20 http://security.ubuntu.com/ubuntu bionic-security/restricted amd64 Packages [760 kB]\n",
            "Get:21 http://archive.ubuntu.com/ubuntu bionic-updates/main amd64 Packages [2,986 kB]\n",
            "Get:22 http://ppa.launchpad.net/graphics-drivers/ppa/ubuntu bionic/main amd64 Packages [42.8 kB]\n",
            "Fetched 11.2 MB in 5s (2,316 kB/s)\n",
            "Reading package lists...\n"
          ]
        }
      ]
    },
    {
      "cell_type": "code",
      "metadata": {
        "id": "4dY12q0raXtc"
      },
      "source": [
        "import os\n",
        "os.environ['JAVA_HOME'] = '/usr/lib/jvm/java-8-openjdk-amd64'\n",
        "\n",
        "from pyspark.sql import SparkSession\n",
        "\n",
        "spark = SparkSession.builder.master(\"local[*]\").getOrCreate()"
      ],
      "execution_count": 2,
      "outputs": []
    },
    {
      "cell_type": "markdown",
      "metadata": {
        "id": "pZZMC5QPae-Z"
      },
      "source": [
        "# Teste\n",
        "\n",
        "O teste a ser realizado é composto de 3 partes:\n",
        "\n",
        "- um exercício de programação em Python\n",
        "- alguns exercícios de programação em SQL\n",
        "- alguns exercícios de programação com PySpark\n",
        "\n",
        "Você pode escolher qual das partes do exercício vai fazer primeiro. Todo o exercício deve ser completado no período de 90 minutos."
      ]
    },
    {
      "cell_type": "markdown",
      "metadata": {
        "id": "YUB8S5fKciHv"
      },
      "source": [
        "# Python"
      ]
    },
    {
      "cell_type": "code",
      "metadata": {
        "id": "2F8f5Z1scgUP"
      },
      "source": [
        "# SETUP\n",
        "nomes_alunos = [\n",
        "    ('Maria', 1),\n",
        "    ('João', 2),\n",
        "    ('Pedro', 3),\n",
        "    ('Gabriella', 4),\n",
        "    ('Giovana', 5),\n",
        "    ('Arthur', 6)\n",
        "]\n",
        "\n",
        "notas_alunos = {\n",
        "    1: 9.5,\n",
        "    2: 5.1,\n",
        "    3: 8.7,\n",
        "    4: 7.1,\n",
        "    5: 4.8,\n",
        "    6: 6.3\n",
        "}"
      ],
      "execution_count": 3,
      "outputs": []
    },
    {
      "cell_type": "markdown",
      "metadata": {
        "id": "ApIQ4JqjcsnC"
      },
      "source": [
        "Implemente uma função que recebe uma lista de nomes de alunos, um dicionário de notas dos mesmo, sendo que essas estruturas se relacionam por um ID.\n",
        "\n",
        "A função deve retornar em ordem alfabética, o nome dos alunos que obtiveram notas maior ou igual de uma nota de corte informada.\n",
        "\n",
        "**[DICA]**: Para realizar a atividade, pense em iterar por cada elemento tanto do dicionário quanto da lista de tuplas e fazer as comparações dentro das iterações."
      ]
    },
    {
      "cell_type": "code",
      "metadata": {
        "id": "ISnDoCWucpHC",
        "colab": {
          "base_uri": "https://localhost:8080/"
        },
        "outputId": "02dd4838-7ada-428c-eecb-7bb1ff633322"
      },
      "source": [
        "def filtra_alunos_acima_corte(alunos, notas, nota_corte):\n",
        "    output = []\n",
        "    for id, nota in notas_alunos.items():\n",
        "      if nota >= nota_corte:\n",
        "        #print(f'Nota {nota} do aluno de id {id} é maior que a de corte {nota_corte}')\n",
        "        aluno = [x[0] for x in nomes_alunos if x[1] == id][0]\n",
        "        output.append(aluno)\n",
        "    output.sort()\n",
        "    print(f'A lista de alunos, em ordem alfabética, que tiveram nota maior ou igual à nota de corte {nota_corte} é: ')\n",
        "    return output\n",
        "\n",
        "    \n",
        "filtra_alunos_acima_corte(nomes_alunos, notas_alunos, 6)"
      ],
      "execution_count": 13,
      "outputs": [
        {
          "output_type": "stream",
          "name": "stdout",
          "text": [
            "A lista de alunos, em ordem alfabética, que tiveram nota maior ou igual à nota de corte 6 é: \n"
          ]
        },
        {
          "output_type": "execute_result",
          "data": {
            "text/plain": [
              "['Arthur', 'Gabriella', 'Maria', 'Pedro']"
            ]
          },
          "metadata": {},
          "execution_count": 13
        }
      ]
    },
    {
      "cell_type": "markdown",
      "metadata": {
        "id": "4iYs_aWqdXrh"
      },
      "source": [
        "# SQL"
      ]
    },
    {
      "cell_type": "markdown",
      "metadata": {
        "id": "mbIq-A9-gXdw"
      },
      "source": [
        "**Setup**\n"
      ]
    },
    {
      "cell_type": "code",
      "metadata": {
        "id": "DOG9FO83dlSe",
        "colab": {
          "base_uri": "https://localhost:8080/"
        },
        "outputId": "8fe9e5ae-3af4-4791-de2d-1dce12cbc278"
      },
      "source": [
        "%%bash\n",
        "mkdir bases_teste\n",
        "curl https://raw.githubusercontent.com/A3Data/bases_testes/main/bases_teste/produtos.csv -o bases_teste/produtos.csv\n",
        "curl https://raw.githubusercontent.com/A3Data/bases_testes/main/bases_teste/vendas.csv -o bases_teste/vendas.csv\n",
        "curl https://raw.githubusercontent.com/A3Data/bases_testes/main/bases_teste/usuarios.csv -o bases_teste/usuarios.csv"
      ],
      "execution_count": 14,
      "outputs": [
        {
          "output_type": "stream",
          "name": "stderr",
          "text": [
            "  % Total    % Received % Xferd  Average Speed   Time    Time     Time  Current\n",
            "                                 Dload  Upload   Total   Spent    Left  Speed\n",
            "\r  0     0    0     0    0     0      0      0 --:--:-- --:--:-- --:--:--     0\r100  1039  100  1039    0     0   6534      0 --:--:-- --:--:-- --:--:--  6575\n",
            "  % Total    % Received % Xferd  Average Speed   Time    Time     Time  Current\n",
            "                                 Dload  Upload   Total   Spent    Left  Speed\n",
            "\r  0     0    0     0    0     0      0      0 --:--:-- --:--:-- --:--:--     0\r100  533k  100  533k    0     0  2144k      0 --:--:-- --:--:-- --:--:-- 2144k\n",
            "  % Total    % Received % Xferd  Average Speed   Time    Time     Time  Current\n",
            "                                 Dload  Upload   Total   Spent    Left  Speed\n",
            "\r  0     0    0     0    0     0      0      0 --:--:-- --:--:-- --:--:--     0\r  0     0    0     0    0     0      0      0 --:--:-- --:--:-- --:--:--     0\r100  211k  100  211k    0     0   898k      0 --:--:-- --:--:-- --:--:--  895k\n"
          ]
        }
      ]
    },
    {
      "cell_type": "code",
      "metadata": {
        "id": "kHkTwPZmfV2t"
      },
      "source": [
        "# Setup Spark Session\n",
        "from pyspark.sql import SparkSession\n",
        "spark = SparkSession.builder.appName(\"AtividadeSQL\").getOrCreate()"
      ],
      "execution_count": 15,
      "outputs": []
    },
    {
      "cell_type": "code",
      "metadata": {
        "id": "3kb1a6CwgSVd"
      },
      "source": [
        "def cria_tabela(path, nome_tabela):\n",
        "    df = spark.read.csv(path, inferSchema=True, header=True)\n",
        "    df.createOrReplaceTempView(nome_tabela)\n",
        "    return df\n",
        "\n",
        "usuarios = cria_tabela(\"bases_teste/usuarios.csv\", \"usuarios\")\n",
        "produtos = cria_tabela(\"bases_teste/produtos.csv\", \"produtos\")\n",
        "vendas = cria_tabela(\"bases_teste/vendas.csv\", \"vendas\")"
      ],
      "execution_count": 16,
      "outputs": []
    },
    {
      "cell_type": "markdown",
      "metadata": {
        "id": "6N5gLPYEg27q"
      },
      "source": [
        "**Função para execução de queries**"
      ]
    },
    {
      "cell_type": "code",
      "metadata": {
        "id": "HtpEu2utg5Pb"
      },
      "source": [
        "def q(query, n=30):\n",
        "    return spark.sql(query).show(n=n, truncate=False)"
      ],
      "execution_count": 17,
      "outputs": []
    },
    {
      "cell_type": "markdown",
      "metadata": {
        "id": "s84UzyTqg9lH"
      },
      "source": [
        "Para executar alguma consulta, basta colocar seu código sql dentro da função q como no exemplo abaixo:\n",
        "\n",
        "```python\n",
        "q(\"\"\"\n",
        "    SELECT *\n",
        "    FROM usuarios\n",
        "\"\"\")\n",
        "```\n",
        "\n",
        "e o resultado será exibido na tela.\n",
        "\n",
        "---\n",
        "\n",
        "Nesta parte da atividade, você vai trabalhar com três tabelas:\n",
        "\n",
        "- produtos\n",
        "- usuarios\n",
        "- vendas\n",
        "\n",
        "Use-as para responder às perguntas a seguir."
      ]
    },
    {
      "cell_type": "markdown",
      "metadata": {
        "id": "Kxzvs2rVoxGk"
      },
      "source": [
        "1) Qual foi a quantidade de vendas nos estados de Minas Gerais e São Paulo para cada ano e mês?"
      ]
    },
    {
      "cell_type": "code",
      "source": [
        "q(\"\"\"\n",
        "    SELECT year(v.data_compra) ano, month(v.data_compra) mes, u.estado, COUNT(v.quantidade) total\n",
        "    FROM vendas v\n",
        "    INNER JOIN usuarios u\n",
        "      ON v.cod_usuario = u.cod_usuario\n",
        "    WHERE u.estado IN ('Minas Gerais', 'São Paulo')\n",
        "    GROUP BY ano, mes, u.estado\n",
        "    ORDER BY ano DESC, mes DESC\n",
        "\"\"\")"
      ],
      "metadata": {
        "colab": {
          "base_uri": "https://localhost:8080/"
        },
        "id": "hN16aVuThIf4",
        "outputId": "26eb075b-d5bf-4a15-88da-fafc8520cc39"
      },
      "execution_count": 52,
      "outputs": [
        {
          "output_type": "stream",
          "name": "stdout",
          "text": [
            "+----+---+------------+-----+\n",
            "|ano |mes|estado      |total|\n",
            "+----+---+------------+-----+\n",
            "|2021|7  |São Paulo   |11   |\n",
            "|2021|7  |Minas Gerais|5    |\n",
            "|2021|6  |São Paulo   |6    |\n",
            "|2021|6  |Minas Gerais|3    |\n",
            "|2021|5  |São Paulo   |2    |\n",
            "|2021|5  |Minas Gerais|4    |\n",
            "|2021|4  |Minas Gerais|6    |\n",
            "|2021|4  |São Paulo   |3    |\n",
            "|2021|3  |São Paulo   |1    |\n",
            "|2021|3  |Minas Gerais|1    |\n",
            "|2021|2  |Minas Gerais|6    |\n",
            "|2021|2  |São Paulo   |1    |\n",
            "|2021|1  |Minas Gerais|2    |\n",
            "|2020|12 |Minas Gerais|1    |\n",
            "|2020|11 |Minas Gerais|3    |\n",
            "|2020|10 |São Paulo   |4    |\n",
            "|2020|10 |Minas Gerais|1    |\n",
            "|2020|9  |Minas Gerais|3    |\n",
            "|2020|9  |São Paulo   |2    |\n",
            "|2020|7  |Minas Gerais|2    |\n",
            "|2020|6  |Minas Gerais|3    |\n",
            "|2020|6  |São Paulo   |1    |\n",
            "|2020|5  |Minas Gerais|3    |\n",
            "|2020|4  |Minas Gerais|1    |\n",
            "|2020|4  |São Paulo   |1    |\n",
            "|2020|3  |Minas Gerais|1    |\n",
            "|2020|3  |São Paulo   |1    |\n",
            "|2020|2  |Minas Gerais|1    |\n",
            "|2020|1  |São Paulo   |1    |\n",
            "|2020|1  |Minas Gerais|1    |\n",
            "+----+---+------------+-----+\n",
            "only showing top 30 rows\n",
            "\n"
          ]
        }
      ]
    },
    {
      "cell_type": "markdown",
      "metadata": {
        "id": "xzD4NiqHplgI"
      },
      "source": [
        "2) Quais são os usuários por Estado que mais compraram em todo o período analisado e qual foi o número de compras realizadas, a quantidade total de itens comprados e valor total pago por usuário?\n",
        "\n",
        "**[DICA]**: perceba que a primeira parte da pergunta exige uma contagem do grão *usuário* e a segunda exige uma contagem do grão *vendas*."
      ]
    },
    {
      "cell_type": "code",
      "metadata": {
        "id": "bVV3Gnthp5hT",
        "colab": {
          "base_uri": "https://localhost:8080/"
        },
        "outputId": "0f090c5d-9110-4d28-b638-dc15982ee25f"
      },
      "source": [
        "q(\"\"\"\n",
        "    SELECT usuario, estado, MAX(compras) compras, total_quantidades, ROUND(total_valor, 2) FROM (\n",
        "    SELECT u.cod_usuario usuario, u.estado, COUNT(v.quantidade) compras, SUM(v.quantidade) total_quantidades, SUM(v.valor) total_valor\n",
        "    FROM vendas v\n",
        "    INNER JOIN usuarios u\n",
        "      ON v.cod_usuario = u.cod_usuario\n",
        "    GROUP BY usuario, u.estado\n",
        "    )\n",
        "    GROUP BY usuario, estado, total_quantidades, total_valor\n",
        "    ORDER BY compras DESC\n",
        "\"\"\")"
      ],
      "execution_count": 79,
      "outputs": [
        {
          "output_type": "stream",
          "name": "stdout",
          "text": [
            "+-------+-------------------+-------+-----------------+---------------------+\n",
            "|usuario|estado             |compras|total_quantidades|round(total_valor, 2)|\n",
            "+-------+-------------------+-------+-----------------+---------------------+\n",
            "|2811   |Maranhão           |13     |117              |184101.89            |\n",
            "|3403   |Rio Grande do Norte|10     |94               |136347.01            |\n",
            "|2843   |Paraná             |10     |114              |137228.01            |\n",
            "|2340   |Mato Grosso        |9      |112              |165197.3             |\n",
            "|1074   |Santa Catarina     |9      |66               |159165.18            |\n",
            "|2981   |Bahia              |9      |70               |126282.4             |\n",
            "|28     |Rio Grande do Sul  |9      |76               |29114.45             |\n",
            "|3090   |Minas Gerais       |9      |93               |95697.3              |\n",
            "|700    |Goiás              |9      |74               |142389.09            |\n",
            "|2551   |Santa Catarina     |9      |88               |187513.66            |\n",
            "|1752   |Tocantins          |8      |80               |97028.45             |\n",
            "|1787   |Ceará              |8      |79               |121494.67            |\n",
            "|441    |Maranhão           |8      |95               |14945.13             |\n",
            "|1756   |São Paulo          |8      |73               |134413.0             |\n",
            "|2438   |Minas Gerais       |8      |91               |95031.67             |\n",
            "|2216   |Minas Gerais       |7      |75               |85841.41             |\n",
            "|1192   |Mato Grosso        |7      |76               |16001.5              |\n",
            "|2646   |Pernambuco         |7      |84               |135556.7             |\n",
            "|796    |Minas Gerais       |7      |56               |28161.0              |\n",
            "|191    |Maranhão           |7      |69               |26216.35             |\n",
            "|2186   |Amapá              |7      |61               |51359.34             |\n",
            "|3358   |Goiás              |7      |58               |136881.19            |\n",
            "|1415   |Rio Grande do Sul  |7      |51               |3015.63              |\n",
            "|3040   |São Paulo          |7      |74               |54400.24             |\n",
            "|2669   |Pernambuco         |7      |56               |37119.0              |\n",
            "|2856   |Bahia              |7      |71               |71986.05             |\n",
            "|1947   |Minas Gerais       |6      |70               |62296.63             |\n",
            "|679    |Mato Grosso do Sul |6      |102              |152271.96            |\n",
            "|2183   |Santa Catarina     |6      |46               |8069.51              |\n",
            "|2920   |São Paulo          |6      |59               |75686.31             |\n",
            "+-------+-------------------+-------+-----------------+---------------------+\n",
            "only showing top 30 rows\n",
            "\n"
          ]
        }
      ]
    },
    {
      "cell_type": "markdown",
      "metadata": {
        "id": "Rx53Cl5Xp6TV"
      },
      "source": [
        "3) Quais são os usuários que não fizeram nenhuma compra?"
      ]
    },
    {
      "cell_type": "code",
      "metadata": {
        "id": "POtsi6dPq9-K",
        "colab": {
          "base_uri": "https://localhost:8080/"
        },
        "outputId": "7e91c17f-48ab-446c-de42-aa88ddc18e13"
      },
      "source": [
        "q(\"\"\"\n",
        "    SELECT DISTINCT u.cod_usuario\n",
        "    FROM usuarios u\n",
        "    LEFT JOIN vendas v\n",
        "      ON v.cod_usuario = u.cod_usuario\n",
        "    WHERE v.cod_usuario IS NULL;\n",
        "\"\"\")"
      ],
      "execution_count": 87,
      "outputs": [
        {
          "output_type": "stream",
          "name": "stdout",
          "text": [
            "+-----------+\n",
            "|cod_usuario|\n",
            "+-----------+\n",
            "|19984      |\n",
            "|25517      |\n",
            "|41409      |\n",
            "|68090      |\n",
            "|87120      |\n",
            "|195413     |\n",
            "|200379     |\n",
            "|219523     |\n",
            "|246097     |\n",
            "|362827     |\n",
            "|371765     |\n",
            "|417190     |\n",
            "|485130     |\n",
            "|91785      |\n",
            "|67782      |\n",
            "|90817      |\n",
            "|18654      |\n",
            "|76143      |\n",
            "|54264      |\n",
            "|69048      |\n",
            "|63155      |\n",
            "|18800      |\n",
            "|22521      |\n",
            "|5614       |\n",
            "|22188      |\n",
            "|50732      |\n",
            "|149257     |\n",
            "|206380     |\n",
            "|221801     |\n",
            "|224325     |\n",
            "+-----------+\n",
            "only showing top 30 rows\n",
            "\n"
          ]
        }
      ]
    },
    {
      "cell_type": "markdown",
      "metadata": {
        "id": "JMfPmlvJq-vq"
      },
      "source": [
        "4) Qual é o ticket médio (média de valor gasto) e o número total de usuários que fizeram pelo menos uma compra *por faixa etária*?"
      ]
    },
    {
      "cell_type": "code",
      "metadata": {
        "id": "2wmU9pLbrMg3",
        "colab": {
          "base_uri": "https://localhost:8080/"
        },
        "outputId": "de031f21-2dd6-490f-8d84-27eebdcc9c13"
      },
      "source": [
        "q(\"\"\"\n",
        "    SELECT u.faixa_etaria, ROUND(AVG(v.valor), 2) ticket_medio, COUNT(u.cod_usuario) total_usuarios\n",
        "    FROM usuarios u\n",
        "    LEFT JOIN vendas v\n",
        "      ON v.cod_usuario = u.cod_usuario\n",
        "    WHERE v.cod_usuario IS NOT NULL\n",
        "    GROUP BY u.faixa_etaria\n",
        "\"\"\")"
      ],
      "execution_count": 93,
      "outputs": [
        {
          "output_type": "stream",
          "name": "stdout",
          "text": [
            "+------------------+------------+--------------+\n",
            "|faixa_etaria      |ticket_medio|total_usuarios|\n",
            "+------------------+------------+--------------+\n",
            "|Entre 22 a 27 anos|12203.02    |64            |\n",
            "|Entre 10 a 15 anos|8890.13     |43            |\n",
            "|Entre 16 a 21 anos|12725.95    |50            |\n",
            "|Entre 50 a 61 anos|10849.48    |80            |\n",
            "|Entre 37 a 49 anos|16727.19    |42            |\n",
            "|Entre 62 a 70 anos|10012.63    |39            |\n",
            "|Entre 28 a 36 anos|8233.04     |56            |\n",
            "|Mais de 70 anos   |11303.1     |29            |\n",
            "+------------------+------------+--------------+\n",
            "\n"
          ]
        }
      ]
    },
    {
      "cell_type": "code",
      "metadata": {
        "id": "3zzx4TnTJ0ck"
      },
      "source": [
        "spark.stop()"
      ],
      "execution_count": 94,
      "outputs": []
    },
    {
      "cell_type": "markdown",
      "metadata": {
        "id": "YsxnKyHTr9ZQ"
      },
      "source": [
        "# PySpark"
      ]
    },
    {
      "cell_type": "markdown",
      "metadata": {
        "id": "IHTFrsFRKENk"
      },
      "source": [
        "**setup**:"
      ]
    },
    {
      "cell_type": "code",
      "metadata": {
        "id": "ExrbmwGPJ74k",
        "colab": {
          "base_uri": "https://localhost:8080/"
        },
        "outputId": "714a5d66-a04f-4674-bf89-0fc5756eb132"
      },
      "source": [
        "%%bash\n",
        "mkdir bases_teste\n",
        "curl https://raw.githubusercontent.com/A3Data/bases_testes/main/bases_teste/produtos.csv -o bases_teste/produtos.csv\n",
        "curl https://raw.githubusercontent.com/A3Data/bases_testes/main/bases_teste/vendas.csv -o bases_teste/vendas.csv\n",
        "curl https://raw.githubusercontent.com/A3Data/bases_testes/main/bases_teste/usuarios.csv -o bases_teste/usuarios.csv"
      ],
      "execution_count": 95,
      "outputs": [
        {
          "output_type": "stream",
          "name": "stderr",
          "text": [
            "mkdir: cannot create directory ‘bases_teste’: File exists\n",
            "  % Total    % Received % Xferd  Average Speed   Time    Time     Time  Current\n",
            "                                 Dload  Upload   Total   Spent    Left  Speed\n",
            "\r  0     0    0     0    0     0      0      0 --:--:-- --:--:-- --:--:--     0\r100  1039  100  1039    0     0   6790      0 --:--:-- --:--:-- --:--:--  6790\n",
            "  % Total    % Received % Xferd  Average Speed   Time    Time     Time  Current\n",
            "                                 Dload  Upload   Total   Spent    Left  Speed\n",
            "\r  0     0    0     0    0     0      0      0 --:--:-- --:--:-- --:--:--     0\r100  533k  100  533k    0     0  1516k      0 --:--:-- --:--:-- --:--:-- 1516k\n",
            "  % Total    % Received % Xferd  Average Speed   Time    Time     Time  Current\n",
            "                                 Dload  Upload   Total   Spent    Left  Speed\n",
            "\r  0     0    0     0    0     0      0      0 --:--:-- --:--:-- --:--:--     0\r100  211k  100  211k    0     0   964k      0 --:--:-- --:--:-- --:--:--  964k\n"
          ]
        }
      ]
    },
    {
      "cell_type": "code",
      "metadata": {
        "id": "1iMZB37mJ74k"
      },
      "source": [
        "# Setup Spark Session\n",
        "from pyspark.sql import SparkSession\n",
        "from pyspark.sql.functions import *\n",
        "spark = SparkSession.builder.appName(\"AtividadeSQL\").getOrCreate()"
      ],
      "execution_count": 110,
      "outputs": []
    },
    {
      "cell_type": "code",
      "metadata": {
        "id": "5wjdDd3tJ74l"
      },
      "source": [
        "def cria_tabela(path, nome_tabela):\n",
        "    df = spark.read.csv(path, inferSchema=True, header=True)\n",
        "    df.createOrReplaceTempView(nome_tabela)\n",
        "    return df\n",
        "\n",
        "usuarios = cria_tabela(\"bases_teste/usuarios.csv\", \"usuarios\")\n",
        "produtos = cria_tabela(\"bases_teste/produtos.csv\", \"produtos\")\n",
        "vendas = cria_tabela(\"bases_teste/vendas.csv\", \"vendas\")"
      ],
      "execution_count": 111,
      "outputs": []
    },
    {
      "cell_type": "markdown",
      "metadata": {
        "id": "DHCtQfrvKpWz"
      },
      "source": [
        "Responda às perguntas a seguir utilizando **Spark DATAFRAMES**.\n",
        "\n",
        "1) Qual foi o total de compras realizadas, o total de itens comprados e a receita total obtida em todo o período analisado?"
      ]
    },
    {
      "cell_type": "code",
      "metadata": {
        "id": "0CcQqjM3r-mq",
        "colab": {
          "base_uri": "https://localhost:8080/"
        },
        "outputId": "ef312e27-a13d-4692-f159-113e0d3f71e9"
      },
      "source": [
        "vendas.agg(count(\"cod_usuario\").alias(\"total_compras\"), sum(\"quantidade\").alias(\"total_itens\"), format_number(sum(\"valor\"), 2).alias(\"total_receita\")).show()"
      ],
      "execution_count": 117,
      "outputs": [
        {
          "output_type": "stream",
          "name": "stdout",
          "text": [
            "+-------------+-----------+--------------+\n",
            "|total_compras|total_itens| total_receita|\n",
            "+-------------+-----------+--------------+\n",
            "|        20000|     209149|215,849,001.66|\n",
            "+-------------+-----------+--------------+\n",
            "\n"
          ]
        }
      ]
    },
    {
      "cell_type": "markdown",
      "metadata": {
        "id": "uVV0rIT8KzZ2"
      },
      "source": [
        "2) Quais são os 3 produtos mais comprados dos estados da região Sul e Sudeste, a quantidade de itens comprados, o valor total pago e a média de preço paga?"
      ]
    },
    {
      "cell_type": "code",
      "metadata": {
        "id": "JkX1ByRdLa5V",
        "colab": {
          "base_uri": "https://localhost:8080/"
        },
        "outputId": "b0aecaf5-b74c-48db-ef6a-06e90febfc8c"
      },
      "source": [
        "produtos.show(5)\n",
        "vendas.show(5)\n",
        "usuarios.show(5)"
      ],
      "execution_count": 120,
      "outputs": [
        {
          "output_type": "stream",
          "name": "stdout",
          "text": [
            "+-----------+--------------------+--------------------+-------------+\n",
            "|cod_produto|        nome_produto|   categoria_produto|valor_produto|\n",
            "+-----------+--------------------+--------------------+-------------+\n",
            "|          1|Notebook Asus Int...|          Tecnologia|       4590.9|\n",
            "|          2|Bicicleta Caloi A...|               Lazer|      1345.78|\n",
            "|          3|  Smartphone Samsung|          Tecnologia|       2049.5|\n",
            "|          4|      Mochila Targus|Material de escri...|         58.9|\n",
            "|          5|   Escrivaninha em L|Material de escri...|        437.0|\n",
            "+-----------+--------------------+--------------------+-------------+\n",
            "only showing top 5 rows\n",
            "\n",
            "+-----------+-----------+-----------+----------+-------+\n",
            "|cod_usuario|cod_produto|data_compra|quantidade|  valor|\n",
            "+-----------+-----------+-----------+----------+-------+\n",
            "|        927|         10| 2020-10-19|         4| 2799.6|\n",
            "|       1544|         10| 2021-03-28|         2| 1399.8|\n",
            "|       2833|          2| 2020-09-13|        20|26915.6|\n",
            "|       2253|         14| 2021-06-21|         1| 138.99|\n",
            "|       1724|         10| 2021-07-10|         6| 4199.4|\n",
            "+-----------+-----------+-----------+----------+-------+\n",
            "only showing top 5 rows\n",
            "\n",
            "+-----------+-------------+------------------+---------+-------------------+\n",
            "|cod_usuario|data_cadastro|      faixa_etaria|   cidade|             estado|\n",
            "+-----------+-------------+------------------+---------+-------------------+\n",
            "|         69|   2020-07-24|Entre 16 a 21 anos|São Romão|       Minas Gerais|\n",
            "|        176|   2021-03-19|Entre 28 a 36 anos| Guanambi|              Bahia|\n",
            "|        185|   2021-03-11|Entre 16 a 21 anos|  Martins|Rio Grande do Norte|\n",
            "|        191|   2021-01-16|Entre 37 a 49 anos|    Icatu|           Maranhão|\n",
            "|        464|   2020-02-19|Entre 22 a 27 anos| Paulista|            Paraíba|\n",
            "+-----------+-------------+------------------+---------+-------------------+\n",
            "only showing top 5 rows\n",
            "\n"
          ]
        }
      ]
    },
    {
      "cell_type": "code",
      "source": [
        "full_data = produtos.join(vendas, produtos.cod_produto == vendas.cod_produto, 'inner').drop(vendas.cod_produto).join(usuarios, usuarios.cod_usuario == vendas.cod_usuario, 'inner').drop(vendas.cod_usuario)\n",
        "full_data.select('estado').distinct().show()"
      ],
      "metadata": {
        "colab": {
          "base_uri": "https://localhost:8080/"
        },
        "id": "tldWcFAF2IC-",
        "outputId": "a5a3432c-399c-480b-ed08-d327eeeb897e"
      },
      "execution_count": 160,
      "outputs": [
        {
          "output_type": "stream",
          "name": "stdout",
          "text": [
            "+-------------------+\n",
            "|             estado|\n",
            "+-------------------+\n",
            "|     Santa Catarina|\n",
            "| Mato Grosso do Sul|\n",
            "|              Goiás|\n",
            "|        Mato Grosso|\n",
            "|              Ceará|\n",
            "|              Piauí|\n",
            "|             Paraná|\n",
            "|              Bahia|\n",
            "|         Pernambuco|\n",
            "|  Rio Grande do Sul|\n",
            "|Rio Grande do Norte|\n",
            "|          São Paulo|\n",
            "|       Minas Gerais|\n",
            "|           Maranhão|\n",
            "|          Tocantins|\n",
            "|            Paraíba|\n",
            "|              Amapá|\n",
            "+-------------------+\n",
            "\n"
          ]
        }
      ]
    },
    {
      "cell_type": "code",
      "source": [
        "full_data.show(5)"
      ],
      "metadata": {
        "colab": {
          "base_uri": "https://localhost:8080/"
        },
        "id": "Wk6VeRhvDg7E",
        "outputId": "b97d1f5f-db23-4c2b-8af1-6316d650a9f5"
      },
      "execution_count": 161,
      "outputs": [
        {
          "output_type": "stream",
          "name": "stdout",
          "text": [
            "+-----------+--------------------+-------------------+-------------+-----------+----------+-------+-----------+-------------+------------------+--------------------+-----------------+\n",
            "|cod_produto|        nome_produto|  categoria_produto|valor_produto|data_compra|quantidade|  valor|cod_usuario|data_cadastro|      faixa_etaria|              cidade|           estado|\n",
            "+-----------+--------------------+-------------------+-------------+-----------+----------+-------+-----------+-------------+------------------+--------------------+-----------------+\n",
            "|         18|Lenço umedecido T...|Produtos de limpeza|          7.9| 2021-06-09|        11|   86.9|       2441|   2019-04-16|Entre 16 a 21 anos|   Cajueiro da Praia|            Piauí|\n",
            "|         17|Monitor LG 19 pol...|         Tecnologia|        584.1| 2019-10-28|         7| 4088.7|       2183|   2019-03-08|Entre 28 a 36 anos|São Francisco do Sul|   Santa Catarina|\n",
            "|          8| Cafeteira Nespresso|   Eletrodomesticos|       219.57| 2021-03-17|        10| 2195.7|         28|   2020-01-19|Entre 22 a 27 anos|              Sertão|Rio Grande do Sul|\n",
            "|          7|Ar-condicionado 9...|   Casa e bem-estar|      1300.49| 2020-09-19|         3|3901.47|        156|   2019-03-18|Entre 16 a 21 anos|      Porto Nacional|        Tocantins|\n",
            "|          2|Bicicleta Caloi A...|              Lazer|      1345.78| 2020-12-13|         4|5383.12|       2856|   2019-12-25|Entre 16 a 21 anos|             Ibipeba|            Bahia|\n",
            "+-----------+--------------------+-------------------+-------------+-----------+----------+-------+-----------+-------------+------------------+--------------------+-----------------+\n",
            "only showing top 5 rows\n",
            "\n"
          ]
        }
      ]
    },
    {
      "cell_type": "code",
      "source": [
        "full_data.filter(full_data.estado.isin('São Paulo', 'Minas Gerais', 'Santa Catarina', 'Rio Grande do Sul', 'Paraná')).groupBy('nome_produto').agg(count('*').alias(\"mais_comprados\"), sum(\"quantidade\").alias(\"total_itens\"), format_number(sum(\"valor\"), 2).alias(\"valor_total\"), format_number(avg(\"valor\"), 2).alias(\"media_valor\") ).sort(desc(\"mais_comprados\")).show(3)"
      ],
      "metadata": {
        "colab": {
          "base_uri": "https://localhost:8080/"
        },
        "id": "jBcuN6CX7C22",
        "outputId": "55cb8412-912c-4232-98e0-5ce9102d438d"
      },
      "execution_count": 168,
      "outputs": [
        {
          "output_type": "stream",
          "name": "stdout",
          "text": [
            "+--------------------+--------------+-----------+-----------+-----------+\n",
            "|        nome_produto|mais_comprados|total_itens|valor_total|media_valor|\n",
            "+--------------------+--------------+-----------+-----------+-----------+\n",
            "|Alcool em Gel 70%...|            26|        280|   1,397.20|      53.74|\n",
            "|Notebook Asus Int...|            14|        134| 615,180.60|  43,941.47|\n",
            "|Monitor LG 19 pol...|            14|         96|  56,073.60|   4,005.26|\n",
            "+--------------------+--------------+-----------+-----------+-----------+\n",
            "only showing top 3 rows\n",
            "\n"
          ]
        }
      ]
    },
    {
      "cell_type": "markdown",
      "metadata": {
        "id": "0CaldadHLbgm"
      },
      "source": [
        "3) Para cada produto, quantos usuários fizeram pelo menos uma compra desse produto e qual é o valor mínimo e máximo pago por eles?"
      ]
    },
    {
      "cell_type": "code",
      "metadata": {
        "id": "qgwOymWOLqAB",
        "colab": {
          "base_uri": "https://localhost:8080/"
        },
        "outputId": "aea9d0e0-4c36-4135-afef-9f76d114c23f"
      },
      "source": [
        "full_data.groupBy('nome_produto').agg(count('cod_usuario').alias(\"quantidade_usuarios\"), min('valor').alias(\"menor_valor\"), max('valor').alias(\"maior_valor\")).show(truncate=False)"
      ],
      "execution_count": 163,
      "outputs": [
        {
          "output_type": "stream",
          "name": "stdout",
          "text": [
            "+-----------------------------------+-------------------+-----------+-----------+\n",
            "|nome_produto                       |quantidade_usuarios|menor_valor|maior_valor|\n",
            "+-----------------------------------+-------------------+-----------+-----------+\n",
            "|Bicicleta Caloi Aro 29             |15                 |2691.56    |26915.6    |\n",
            "|Cafeteira Nespresso                |21                 |219.57     |3732.69    |\n",
            "|Notebook Asus Intel Core i7        |29                 |4590.9     |82636.2    |\n",
            "|Aparelho de Barbear OneBlade Philco|13                 |129.9      |2598.0     |\n",
            "|SPA Intel 700 L                    |27                 |5999.1     |119982.0   |\n",
            "|Jogo Mortal Kombat 11 PS4          |18                 |49.9       |848.3      |\n",
            "|Umidificador de Ar Cadence         |21                 |77.5       |1550.0     |\n",
            "|Blusa Lacoste                      |18                 |138.99     |2779.8     |\n",
            "|Alcool em Gel 70% Johnson          |36                 |4.99       |99.8       |\n",
            "|Monitor LG 19 pol curvado          |28                 |584.1      |11097.9    |\n",
            "|Escrivaninha em L                  |27                 |874.0      |8740.0     |\n",
            "|Lenço umedecido Turma da Monica    |13                 |7.9        |158.0      |\n",
            "|Kit 3 barras de chocolate Alpino   |16                 |29.7       |198.0      |\n",
            "|Ar-condicionado 9500 BTUs LG       |13                 |1300.49    |24709.31   |\n",
            "|Mochila Targus                     |12                 |58.9       |1178.0     |\n",
            "|Cadeira Gamer Xpress               |19                 |2099.7     |13298.1    |\n",
            "|Biscoito Chocolicia Chocolate      |18                 |5.0        |100.0      |\n",
            "|SmartTV Samsung 4K 55 polegadas    |13                 |2499.9     |42498.3    |\n",
            "|Smartphone Samsung                 |12                 |4099.0     |40990.0    |\n",
            "|Sofa 3 lugares                     |21                 |899.9      |17098.1    |\n",
            "+-----------------------------------+-------------------+-----------+-----------+\n",
            "only showing top 20 rows\n",
            "\n"
          ]
        }
      ]
    },
    {
      "cell_type": "markdown",
      "metadata": {
        "id": "QUM8hfarLqy9"
      },
      "source": [
        "4) Construa uma tabela unificada com todas as colunas dos 3 datasets (sem colunas repetidas) e escreva essa tabela localmente em formato **parquet** particionando pelo estado."
      ]
    },
    {
      "cell_type": "code",
      "metadata": {
        "id": "YEYCoeHlMGHl"
      },
      "source": [
        "full_data.write.partitionBy('estado').parquet('full_data')"
      ],
      "execution_count": 164,
      "outputs": []
    },
    {
      "cell_type": "markdown",
      "metadata": {
        "id": "ndROlUqgMHxn"
      },
      "source": [
        "# FIM!"
      ]
    },
    {
      "cell_type": "code",
      "source": [
        "!pip install nbconvert"
      ],
      "metadata": {
        "colab": {
          "base_uri": "https://localhost:8080/"
        },
        "id": "QNv7oSm0F92D",
        "outputId": "23d39725-a59f-4b7b-9513-47a7350259e2"
      },
      "execution_count": 165,
      "outputs": [
        {
          "output_type": "stream",
          "name": "stdout",
          "text": [
            "Requirement already satisfied: nbconvert in /usr/local/lib/python3.7/dist-packages (5.6.1)\n",
            "Requirement already satisfied: traitlets>=4.2 in /usr/local/lib/python3.7/dist-packages (from nbconvert) (5.1.1)\n",
            "Requirement already satisfied: defusedxml in /usr/local/lib/python3.7/dist-packages (from nbconvert) (0.7.1)\n",
            "Requirement already satisfied: testpath in /usr/local/lib/python3.7/dist-packages (from nbconvert) (0.5.0)\n",
            "Requirement already satisfied: pygments in /usr/local/lib/python3.7/dist-packages (from nbconvert) (2.6.1)\n",
            "Requirement already satisfied: jupyter-core in /usr/local/lib/python3.7/dist-packages (from nbconvert) (4.9.1)\n",
            "Requirement already satisfied: nbformat>=4.4 in /usr/local/lib/python3.7/dist-packages (from nbconvert) (5.1.3)\n",
            "Requirement already satisfied: bleach in /usr/local/lib/python3.7/dist-packages (from nbconvert) (4.1.0)\n",
            "Requirement already satisfied: pandocfilters>=1.4.1 in /usr/local/lib/python3.7/dist-packages (from nbconvert) (1.5.0)\n",
            "Requirement already satisfied: entrypoints>=0.2.2 in /usr/local/lib/python3.7/dist-packages (from nbconvert) (0.3)\n",
            "Requirement already satisfied: jinja2>=2.4 in /usr/local/lib/python3.7/dist-packages (from nbconvert) (2.11.3)\n",
            "Requirement already satisfied: mistune<2,>=0.8.1 in /usr/local/lib/python3.7/dist-packages (from nbconvert) (0.8.4)\n",
            "Requirement already satisfied: MarkupSafe>=0.23 in /usr/local/lib/python3.7/dist-packages (from jinja2>=2.4->nbconvert) (2.0.1)\n",
            "Requirement already satisfied: jsonschema!=2.5.0,>=2.4 in /usr/local/lib/python3.7/dist-packages (from nbformat>=4.4->nbconvert) (4.3.3)\n",
            "Requirement already satisfied: ipython-genutils in /usr/local/lib/python3.7/dist-packages (from nbformat>=4.4->nbconvert) (0.2.0)\n",
            "Requirement already satisfied: attrs>=17.4.0 in /usr/local/lib/python3.7/dist-packages (from jsonschema!=2.5.0,>=2.4->nbformat>=4.4->nbconvert) (21.4.0)\n",
            "Requirement already satisfied: importlib-resources>=1.4.0 in /usr/local/lib/python3.7/dist-packages (from jsonschema!=2.5.0,>=2.4->nbformat>=4.4->nbconvert) (5.4.0)\n",
            "Requirement already satisfied: importlib-metadata in /usr/local/lib/python3.7/dist-packages (from jsonschema!=2.5.0,>=2.4->nbformat>=4.4->nbconvert) (4.10.1)\n",
            "Requirement already satisfied: pyrsistent!=0.17.0,!=0.17.1,!=0.17.2,>=0.14.0 in /usr/local/lib/python3.7/dist-packages (from jsonschema!=2.5.0,>=2.4->nbformat>=4.4->nbconvert) (0.18.1)\n",
            "Requirement already satisfied: typing-extensions in /usr/local/lib/python3.7/dist-packages (from jsonschema!=2.5.0,>=2.4->nbformat>=4.4->nbconvert) (3.10.0.2)\n",
            "Requirement already satisfied: zipp>=3.1.0 in /usr/local/lib/python3.7/dist-packages (from importlib-resources>=1.4.0->jsonschema!=2.5.0,>=2.4->nbformat>=4.4->nbconvert) (3.7.0)\n",
            "Requirement already satisfied: webencodings in /usr/local/lib/python3.7/dist-packages (from bleach->nbconvert) (0.5.1)\n",
            "Requirement already satisfied: packaging in /usr/local/lib/python3.7/dist-packages (from bleach->nbconvert) (21.3)\n",
            "Requirement already satisfied: six>=1.9.0 in /usr/local/lib/python3.7/dist-packages (from bleach->nbconvert) (1.15.0)\n",
            "Requirement already satisfied: pyparsing!=3.0.5,>=2.0.2 in /usr/local/lib/python3.7/dist-packages (from packaging->bleach->nbconvert) (3.0.7)\n"
          ]
        }
      ]
    },
    {
      "cell_type": "code",
      "source": [
        "%%shell\n",
        "jupyter nbconvert --to html /content/teste_engenharia_de_dados_a3data_ebraim.ipynb"
      ],
      "metadata": {
        "colab": {
          "base_uri": "https://localhost:8080/"
        },
        "id": "PB4WRGdzF-k9",
        "outputId": "8a7e9fee-d399-42ae-f477-ee03f6ea99c7"
      },
      "execution_count": 166,
      "outputs": [
        {
          "output_type": "stream",
          "name": "stdout",
          "text": [
            "[NbConvertApp] Converting notebook /content/teste_engenharia_de_dados_a3data_ebraim.ipynb to html\n",
            "[NbConvertApp] Writing 333657 bytes to /content/teste_engenharia_de_dados_a3data_ebraim.html\n"
          ]
        },
        {
          "output_type": "execute_result",
          "data": {
            "text/plain": [
              ""
            ]
          },
          "metadata": {},
          "execution_count": 166
        }
      ]
    }
  ]
}